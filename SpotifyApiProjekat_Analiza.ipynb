{
 "cells": [
  {
   "cell_type": "code",
   "execution_count": 1,
   "metadata": {},
   "outputs": [
    {
     "name": "stdout",
     "output_type": "stream",
     "text": [
      "Requirement already satisfied: spotipy in c:\\users\\amra\\anaconda3\\lib\\site-packages (2.17.1)\n",
      "Requirement already satisfied: urllib3>=1.26.0 in c:\\users\\amra\\anaconda3\\lib\\site-packages (from spotipy) (1.26.3)\n",
      "Requirement already satisfied: requests>=2.25.0 in c:\\users\\amra\\anaconda3\\lib\\site-packages (from spotipy) (2.25.1)\n",
      "Requirement already satisfied: six>=1.15.0 in c:\\users\\amra\\anaconda3\\lib\\site-packages (from spotipy) (1.15.0)\n",
      "Requirement already satisfied: idna<3,>=2.5 in c:\\users\\amra\\anaconda3\\lib\\site-packages (from requests>=2.25.0->spotipy) (2.10)\n",
      "Requirement already satisfied: certifi>=2017.4.17 in c:\\users\\amra\\anaconda3\\lib\\site-packages (from requests>=2.25.0->spotipy) (2020.6.20)\n",
      "Requirement already satisfied: chardet<5,>=3.0.2 in c:\\users\\amra\\anaconda3\\lib\\site-packages (from requests>=2.25.0->spotipy) (3.0.4)\n"
     ]
    }
   ],
   "source": [
    "!pip install spotipy"
   ]
  },
  {
   "cell_type": "code",
   "execution_count": 1,
   "metadata": {},
   "outputs": [],
   "source": [
    "#uvozimo potrebno biblioteke\n",
    "import spotipy\n",
    "import requests\n",
    "import pandas as pd\n",
    "from spotipy.oauth2 import SpotifyClientCredentials \n",
    "import time\n",
    "import numpy as np\n",
    "import matplotlib.pyplot as plt\n",
    "\n",
    "\n",
    "#potrebni id-evi za rad sa spotify podacima\n",
    "\n",
    "client_id = \"30096672ed734215a710b0c8ae36726d\"\n",
    "client_secret = \"0544c2212476415888c498789f6e80b0\"\n",
    "client_credentials_manager = SpotifyClientCredentials(client_id=client_id, client_secret=client_secret)\n",
    "sp = spotipy.Spotify(client_credentials_manager=client_credentials_manager)"
   ]
  },
  {
   "cell_type": "code",
   "execution_count": 2,
   "metadata": {},
   "outputs": [
    {
     "data": {
      "text/plain": [
       "['spotify:album:2OGMw383aolTxxJSalsQcn',\n",
       " 'spotify:album:5FngUASNGNQ5aaymJxQCe8',\n",
       " 'spotify:album:5QIRBnHU5R3qLumWE0Weqw',\n",
       " 'spotify:album:3YVcRmrLD8nUbAJRE6r4Pp',\n",
       " 'spotify:album:5gqNJ6yBOLKEmrfkDiLA1F',\n",
       " 'spotify:album:604L5cGCARnrYDFTzP9czQ',\n",
       " 'spotify:album:6W9QMPkwucSMOOkq2flxz0',\n",
       " 'spotify:album:77yxlVL5dkorwBfEmIb5sH']"
      ]
     },
     "execution_count": 2,
     "metadata": {},
     "output_type": "execute_result"
    }
   ],
   "source": [
    "#biramo željene izvođače i stavljamo njihove albume i uri-je u dvije liste\n",
    "name = [\"Natali Dizdar\",\"Filip Dizdar\"]\n",
    "\n",
    "artist_album_names = []\n",
    "artist_album_uris = []\n",
    "for k in range(len(name)):\n",
    "    result = sp.search(name[k]) \n",
    "    result['tracks']['items'][k]['artists']\n",
    "    #Extract Artist's uri\n",
    "    artists_uris = result['tracks']['items'][0]['artists'][0]['uri']\n",
    "    #Pull all of the artist's albums\n",
    "    artist_albums = sp.artist_albums(artists_uris, album_type='album')\n",
    "    #Store artist's albums' names' and uris in separate lists\n",
    "    for i in range(len(artist_albums['items'])):\n",
    "        artist_album_names.append(artist_albums['items'][i]['name'])\n",
    "        artist_album_uris.append(artist_albums['items'][i]['uri'])\n",
    "\n",
    "artist_album_names\n",
    "artist_album_uris"
   ]
  },
  {
   "cell_type": "code",
   "execution_count": 3,
   "metadata": {},
   "outputs": [],
   "source": [
    "#trazi se po albumu i cuvaju se podaci i adrese o pjesmama\n",
    "def album_songs(uri,market):\n",
    "    album = uri \n",
    "    spotify_albums[album] = {}\n",
    "    #Create keys-values of empty lists inside nested dictionary for album\n",
    "    spotify_albums[album]['album'] = [] \n",
    "    spotify_albums[album]['track_number'] = []\n",
    "    spotify_albums[album]['id'] = []\n",
    "    spotify_albums[album]['name'] = []\n",
    "    spotify_albums[album]['uri'] = []\n",
    "    #pull data on album tracks\n",
    "    tracks = sp.album_tracks(album) \n",
    "    if(market == 'BA'):\n",
    "        for n in range(len(tracks['items'])): \n",
    "            spotify_albums[album]['album'].append(artist_album_names[album_count]) \n",
    "            spotify_albums[album]['track_number'].append(tracks['items'][n]['track_number'])\n",
    "            spotify_albums[album]['id'].append(tracks['items'][n]['id'])\n",
    "            spotify_albums[album]['name'].append(tracks['items'][n]['name'])\n",
    "            spotify_albums[album]['uri'].append(tracks['items'][n]['uri'])\n",
    "           \n",
    "\n",
    "market = \"BA\"\n",
    "        \n",
    "spotify_albums = {}\n",
    "album_count = 0\n",
    "for i in artist_album_uris: #po svakom albumu\n",
    "    album_songs(i,market)\n",
    "    album_count+=1 #Nakon sto su dodatne sve pjesme sa jednog albuma povecava se broj albuma za 1\n",
    "    \n",
    "        "
   ]
  },
  {
   "cell_type": "code",
   "execution_count": 4,
   "metadata": {},
   "outputs": [],
   "source": [
    "#audio osobine pjesama\n",
    "def audio_features(album):\n",
    "    #dodaju se kljucne rijeci po kojima ce se spremati podaci\n",
    "    spotify_albums[album]['acousticness'] = []\n",
    "    spotify_albums[album]['danceability'] = []\n",
    "    spotify_albums[album]['energy'] = []\n",
    "    spotify_albums[album]['instrumentalness'] = []\n",
    "    spotify_albums[album]['liveness'] = []\n",
    "    spotify_albums[album]['loudness'] = []\n",
    "    spotify_albums[album]['speechiness'] = []\n",
    "    spotify_albums[album]['tempo'] = []\n",
    "    spotify_albums[album]['valence'] = []\n",
    "    spotify_albums[album]['popularity'] = []\n",
    "    \n",
    "    \n",
    "    track_count = 0\n",
    "    for track in spotify_albums[album]['uri']:\n",
    "        #povlacenje podataka o audio feature-ima po svakoj pjesmi\n",
    "        features = sp.audio_features(track)\n",
    "        \n",
    "        #dodajemo podatke po relevantnim kljucnim rijecima\n",
    "        spotify_albums[album]['acousticness'].append(features[0]['acousticness'])\n",
    "        spotify_albums[album]['danceability'].append(features[0]['danceability'])\n",
    "        spotify_albums[album]['energy'].append(features[0]['energy'])\n",
    "        spotify_albums[album]['instrumentalness'].append(features[0]['instrumentalness'])\n",
    "        spotify_albums[album]['liveness'].append(features[0]['liveness'])\n",
    "        spotify_albums[album]['loudness'].append(features[0]['loudness'])\n",
    "        spotify_albums[album]['speechiness'].append(features[0]['speechiness'])\n",
    "        spotify_albums[album]['tempo'].append(features[0]['tempo'])\n",
    "        spotify_albums[album]['valence'].append(features[0]['valence'])\n",
    "        pop = sp.track(track)\n",
    "        spotify_albums[album]['popularity'].append(pop['popularity'])\n",
    "        track_count+=1"
   ]
  },
  {
   "cell_type": "code",
   "execution_count": 5,
   "metadata": {},
   "outputs": [
    {
     "name": "stdout",
     "output_type": "stream",
     "text": [
      "5 playlists completed\n",
      "94\n",
      "65\n"
     ]
    }
   ],
   "source": [
    "\n",
    "#ovdje dodajemo namjerno kasnjenje tako da bi nam spotify api mogao lijepo vratiti podatke, a da ga ne zatrpavamo prevelikom kolicinom podataka\n",
    "\n",
    "sleep_min = 2\n",
    "sleep_max = 5\n",
    "start_time = time.time()\n",
    "request_count = 0\n",
    "for i in spotify_albums:\n",
    "    audio_features(i)\n",
    "    request_count+=1\n",
    "    if request_count % 5 == 0:\n",
    "        print(str(request_count) + \" playlists completed\")\n",
    "        time.sleep(np.random.uniform(sleep_min, sleep_max))\n",
    "        \n",
    "        \n",
    "dic_df = {}\n",
    "dic_df['album'] = []\n",
    "dic_df['track_number'] = []\n",
    "dic_df['id'] = []\n",
    "dic_df['name'] = []\n",
    "dic_df['uri'] = []\n",
    "dic_df['acousticness'] = []\n",
    "dic_df['danceability'] = []\n",
    "dic_df['energy'] = []\n",
    "dic_df['instrumentalness'] = []\n",
    "dic_df['liveness'] = []\n",
    "dic_df['loudness'] = []\n",
    "dic_df['speechiness'] = []\n",
    "dic_df['tempo'] = []\n",
    "dic_df['valence'] = []\n",
    "dic_df['popularity'] = []\n",
    "for album in spotify_albums: \n",
    "    for feature in spotify_albums[album]:\n",
    "        dic_df[feature].extend(spotify_albums[album][feature])\n",
    "        \n",
    "len(dic_df['album'])\n",
    "\n",
    "dataframe = pd.DataFrame.from_dict(dic_df)\n",
    "dataframe\n",
    "\n",
    "print(len(dataframe))\n",
    "final_df = dataframe.sort_values('popularity', ascending=True).drop_duplicates('name').sort_index()\n",
    "print(len(final_df))\n",
    "\n",
    "final_df.head(300)\n",
    "\n",
    "final_df.to_csv(\"spotify_music.csv\")\n"
   ]
  },
  {
   "cell_type": "code",
   "execution_count": 6,
   "metadata": {},
   "outputs": [
    {
     "name": "stderr",
     "output_type": "stream",
     "text": [
      "Locator attempting to generate 1103 ticks ([-1.02, ..., 21.02]), which exceeds Locator.MAXTICKS (1000).\n",
      "Locator attempting to generate 1103 ticks ([-1.02, ..., 21.02]), which exceeds Locator.MAXTICKS (1000).\n",
      "Locator attempting to generate 1103 ticks ([-1.02, ..., 21.02]), which exceeds Locator.MAXTICKS (1000).\n",
      "Locator attempting to generate 1103 ticks ([-1.02, ..., 21.02]), which exceeds Locator.MAXTICKS (1000).\n",
      "Locator attempting to generate 1103 ticks ([-1.02, ..., 21.02]), which exceeds Locator.MAXTICKS (1000).\n",
      "Locator attempting to generate 1103 ticks ([-1.02, ..., 21.02]), which exceeds Locator.MAXTICKS (1000).\n",
      "Locator attempting to generate 1103 ticks ([-1.02, ..., 21.02]), which exceeds Locator.MAXTICKS (1000).\n",
      "Locator attempting to generate 1103 ticks ([-1.02, ..., 21.02]), which exceeds Locator.MAXTICKS (1000).\n",
      "Locator attempting to generate 1103 ticks ([-1.02, ..., 21.02]), which exceeds Locator.MAXTICKS (1000).\n",
      "Locator attempting to generate 1103 ticks ([-1.02, ..., 21.02]), which exceeds Locator.MAXTICKS (1000).\n"
     ]
    },
    {
     "data": {
      "image/png": "[encoded data removed]",
      "text/plain": [
       "<Figure size 432x432 with 1 Axes>"
      ]
     },
     "metadata": {
      "needs_background": "light"
     },
     "output_type": "display_data"
    }
   ],
   "source": [
    "#ANALIZA PODATAKA\n",
    "\n",
    "#koristi se sklearn\n",
    "\n",
    "import matplotlib.ticker as ticker\n",
    "from sklearn import datasets, linear_model\n",
    "from sklearn.decomposition import PCA\n",
    "from sklearn.preprocessing import MinMaxScaler\n",
    "from sklearn.manifold import TSNE\n",
    "import matplotlib.pyplot as plt\n",
    "\n",
    "#linearna regresija\n",
    "\n",
    "%matplotlib inline\n",
    "\n",
    "#provjera nan podataka\n",
    "#final_df je ono s cim cemo dalje nastaviti raditi\n",
    "final_df.isnull()\n",
    "final_df = final_df.fillna(0)\n",
    "\n",
    "#korelacija izmedju popularnosti i audio osobina\n",
    "\n",
    "x = final_df[\"popularity\"].values\n",
    "y = final_df[\"valence\"].values\n",
    "\n",
    "x = x.reshape(x.shape[0], 1)\n",
    "y = y.reshape(y.shape[0], 1)\n",
    "\n",
    "regr = linear_model.LinearRegression()\n",
    "regr.fit(x, y)\n",
    "\n",
    "fig = plt.figure(figsize=(6, 6))\n",
    "fig.suptitle(\"Korelacija između popularnosti i valencije\")\n",
    "\n",
    "ax = plt.subplot(1, 1, 1)\n",
    "ax.scatter(x, y, alpha=0.5)\n",
    "ax.plot(x, regr.predict(x), color=\"red\", linewidth=3)\n",
    "plt.xticks(())\n",
    "plt.yticks(())\n",
    "\n",
    "ax.xaxis.set_major_locator(ticker.MultipleLocator(0.1))\n",
    "ax.xaxis.set_minor_locator(ticker.MultipleLocator(0.02))\n",
    "\n",
    "ax.yaxis.set_major_locator(ticker.MultipleLocator(0.1))\n",
    "ax.yaxis.set_minor_locator(ticker.MultipleLocator(0.02))\n",
    "\n",
    "\n",
    "plt.xlabel(\"popularity\")\n",
    "plt.ylabel(\"valence\")\n",
    "\n",
    "plt.show()"
   ]
  },
  {
   "cell_type": "code",
   "execution_count": 7,
   "metadata": {},
   "outputs": [
    {
     "data": {
      "image/png": "[encoded data removed]",
      "text/plain": [
       "<Figure size 720x360 with 3 Axes>"
      ]
     },
     "metadata": {
      "needs_background": "light"
     },
     "output_type": "display_data"
    }
   ],
   "source": [
    "#kreirat cemo histograme\n",
    "#prvi histogram pokazuje pjesme po nivou energije\n",
    "#drugi histogram pokazuje broj pronađenih pjesama u odnosu na cjelokupne vrijednosti za tempo i popularnost\n",
    "\n",
    "x = \"tempo\"\n",
    "y = \"popularity\"\n",
    "\n",
    "fig, (ax1, ax2) = plt.subplots(1, 2, sharey=False, sharex=False, figsize=(10, 5))\n",
    "h = ax2.hist2d(final_df[x], final_df[y], bins=20)\n",
    "ax1.hist(final_df[\"energy\"])\n",
    "\n",
    "ax2.set_xlabel(x)\n",
    "ax2.set_ylabel(y)\n",
    "\n",
    "ax1.set_xlabel(\"energy\")\n",
    "\n",
    "plt.colorbar(h[3], ax=ax2)\n",
    "\n",
    "plt.show()"
   ]
  },
  {
   "cell_type": "code",
   "execution_count": 8,
   "metadata": {},
   "outputs": [],
   "source": [
    "#kreirat ćemo niz odabranih audio osobina i posmatrati sličnosti među pjesmama\n",
    "\n",
    "odabrane = [\"energy\", \"liveness\", \"tempo\", \"valence\", \"loudness\", \"speechiness\", \"acousticness\", \"danceability\",\n",
    "            \"instrumentalness\"]\n",
    "text1 = final_df[\"name\"]\n",
    "text2 = text1.values\n",
    "\n",
    "X = final_df[odabrane].values\n",
    "y = final_df[\"danceability\"].values\n",
    "\n",
    "min_max_scaler = MinMaxScaler()\n",
    "X = min_max_scaler.fit_transform(X)\n",
    "\n",
    "pca = PCA(n_components=3) # PCA - Principal Component Analysis (alat za smanjenje dimenzija)\n",
    "# PCA se koristi za izdvajanje informacija iz viseg dimenzionalnog prostora i preslikava ih u nizi dimenzionalni prostor\n",
    "pca.fit(X)\n",
    "\n",
    "X = pca.transform(X)"
   ]
  },
  {
   "cell_type": "code",
   "execution_count": 9,
   "metadata": {},
   "outputs": [
    {
     "name": "stdout",
     "output_type": "stream",
     "text": [
      "Requirement already satisfied: cufflinks in c:\\users\\amra\\anaconda3\\lib\\site-packages (0.17.3)\n",
      "Requirement already satisfied: numpy>=1.9.2 in c:\\users\\amra\\anaconda3\\lib\\site-packages (from cufflinks) (1.19.2)\n",
      "Requirement already satisfied: colorlover>=0.2.1 in c:\\users\\amra\\anaconda3\\lib\\site-packages (from cufflinks) (0.3.0)\n",
      "Requirement already satisfied: six>=1.9.0 in c:\\users\\amra\\anaconda3\\lib\\site-packages (from cufflinks) (1.15.0)\n",
      "Requirement already satisfied: ipython>=5.3.0 in c:\\users\\amra\\anaconda3\\lib\\site-packages (from cufflinks) (7.19.0)\n",
      "Requirement already satisfied: setuptools>=34.4.1 in c:\\users\\amra\\anaconda3\\lib\\site-packages (from cufflinks) (50.3.1.post20201107)\n",
      "Requirement already satisfied: ipywidgets>=7.0.0 in c:\\users\\amra\\anaconda3\\lib\\site-packages (from cufflinks) (7.5.1)\n",
      "Requirement already satisfied: pandas>=0.19.2 in c:\\users\\amra\\anaconda3\\lib\\site-packages (from cufflinks) (1.1.3)\n",
      "Requirement already satisfied: plotly>=4.1.1 in c:\\users\\amra\\anaconda3\\lib\\site-packages (from cufflinks) (4.14.3)\n",
      "Requirement already satisfied: pygments in c:\\users\\amra\\anaconda3\\lib\\site-packages (from ipython>=5.3.0->cufflinks) (2.7.2)\n",
      "Requirement already satisfied: decorator in c:\\users\\amra\\anaconda3\\lib\\site-packages (from ipython>=5.3.0->cufflinks) (4.4.2)\n",
      "Requirement already satisfied: traitlets>=4.2 in c:\\users\\amra\\anaconda3\\lib\\site-packages (from ipython>=5.3.0->cufflinks) (5.0.5)\n",
      "Requirement already satisfied: pickleshare in c:\\users\\amra\\anaconda3\\lib\\site-packages (from ipython>=5.3.0->cufflinks) (0.7.5)\n",
      "Requirement already satisfied: backcall in c:\\users\\amra\\anaconda3\\lib\\site-packages (from ipython>=5.3.0->cufflinks) (0.2.0)\n",
      "Requirement already satisfied: jedi>=0.10 in c:\\users\\amra\\anaconda3\\lib\\site-packages (from ipython>=5.3.0->cufflinks) (0.17.1)\n",
      "Requirement already satisfied: colorama; sys_platform == \"win32\" in c:\\users\\amra\\anaconda3\\lib\\site-packages (from ipython>=5.3.0->cufflinks) (0.4.4)\n",
      "Requirement already satisfied: prompt-toolkit!=3.0.0,!=3.0.1,<3.1.0,>=2.0.0 in c:\\users\\amra\\anaconda3\\lib\\site-packages (from ipython>=5.3.0->cufflinks) (3.0.8)\n",
      "Requirement already satisfied: nbformat>=4.2.0 in c:\\users\\amra\\anaconda3\\lib\\site-packages (from ipywidgets>=7.0.0->cufflinks) (5.0.8)\n",
      "Requirement already satisfied: ipykernel>=4.5.1 in c:\\users\\amra\\anaconda3\\lib\\site-packages (from ipywidgets>=7.0.0->cufflinks) (5.3.4)\n",
      "Requirement already satisfied: widgetsnbextension~=3.5.0 in c:\\users\\amra\\anaconda3\\lib\\site-packages (from ipywidgets>=7.0.0->cufflinks) (3.5.1)\n",
      "Requirement already satisfied: pytz>=2017.2 in c:\\users\\amra\\anaconda3\\lib\\site-packages (from pandas>=0.19.2->cufflinks) (2020.1)\n",
      "Requirement already satisfied: python-dateutil>=2.7.3 in c:\\users\\amra\\anaconda3\\lib\\site-packages (from pandas>=0.19.2->cufflinks) (2.8.1)\n",
      "Requirement already satisfied: retrying>=1.3.3 in c:\\users\\amra\\anaconda3\\lib\\site-packages (from plotly>=4.1.1->cufflinks) (1.3.3)\n",
      "Requirement already satisfied: ipython-genutils in c:\\users\\amra\\anaconda3\\lib\\site-packages (from traitlets>=4.2->ipython>=5.3.0->cufflinks) (0.2.0)\n",
      "Requirement already satisfied: parso<0.8.0,>=0.7.0 in c:\\users\\amra\\anaconda3\\lib\\site-packages (from jedi>=0.10->ipython>=5.3.0->cufflinks) (0.7.0)\n",
      "Requirement already satisfied: wcwidth in c:\\users\\amra\\anaconda3\\lib\\site-packages (from prompt-toolkit!=3.0.0,!=3.0.1,<3.1.0,>=2.0.0->ipython>=5.3.0->cufflinks) (0.2.5)\n",
      "Requirement already satisfied: jsonschema!=2.5.0,>=2.4 in c:\\users\\amra\\anaconda3\\lib\\site-packages (from nbformat>=4.2.0->ipywidgets>=7.0.0->cufflinks) (3.2.0)\n",
      "Requirement already satisfied: jupyter-core in c:\\users\\amra\\anaconda3\\lib\\site-packages (from nbformat>=4.2.0->ipywidgets>=7.0.0->cufflinks) (4.6.3)\n",
      "Requirement already satisfied: jupyter-client in c:\\users\\amra\\anaconda3\\lib\\site-packages (from ipykernel>=4.5.1->ipywidgets>=7.0.0->cufflinks) (6.1.7)\n",
      "Requirement already satisfied: tornado>=4.2 in c:\\users\\amra\\anaconda3\\lib\\site-packages (from ipykernel>=4.5.1->ipywidgets>=7.0.0->cufflinks) (6.0.4)\n",
      "Requirement already satisfied: notebook>=4.4.1 in c:\\users\\amra\\anaconda3\\lib\\site-packages (from widgetsnbextension~=3.5.0->ipywidgets>=7.0.0->cufflinks) (6.1.4)\n",
      "Requirement already satisfied: pyrsistent>=0.14.0 in c:\\users\\amra\\anaconda3\\lib\\site-packages (from jsonschema!=2.5.0,>=2.4->nbformat>=4.2.0->ipywidgets>=7.0.0->cufflinks) (0.17.3)\n",
      "Requirement already satisfied: attrs>=17.4.0 in c:\\users\\amra\\anaconda3\\lib\\site-packages (from jsonschema!=2.5.0,>=2.4->nbformat>=4.2.0->ipywidgets>=7.0.0->cufflinks) (20.3.0)\n",
      "Requirement already satisfied: pywin32>=1.0; sys_platform == \"win32\" in c:\\users\\amra\\anaconda3\\lib\\site-packages (from jupyter-core->nbformat>=4.2.0->ipywidgets>=7.0.0->cufflinks) (227)\n",
      "Note: you may need to restart the kernel to use updated packages.Requirement already satisfied: pyzmq>=13 in c:\\users\\amra\\anaconda3\\lib\\site-packages (from jupyter-client->ipykernel>=4.5.1->ipywidgets>=7.0.0->cufflinks) (19.0.2)\n",
      "Requirement already satisfied: argon2-cffi in c:\\users\\amra\\anaconda3\\lib\\site-packages (from notebook>=4.4.1->widgetsnbextension~=3.5.0->ipywidgets>=7.0.0->cufflinks) (20.1.0)\n",
      "Requirement already satisfied: nbconvert in c:\\users\\amra\\anaconda3\\lib\\site-packages (from notebook>=4.4.1->widgetsnbextension~=3.5.0->ipywidgets>=7.0.0->cufflinks) (6.0.7)\n",
      "Requirement already satisfied: terminado>=0.8.3 in c:\\users\\amra\\anaconda3\\lib\\site-packages (from notebook>=4.4.1->widgetsnbextension~=3.5.0->ipywidgets>=7.0.0->cufflinks) (0.9.1)\n",
      "Requirement already satisfied: prometheus-client in c:\\users\\amra\\anaconda3\\lib\\site-packages (from notebook>=4.4.1->widgetsnbextension~=3.5.0->ipywidgets>=7.0.0->cufflinks) (0.8.0)\n",
      "Requirement already satisfied: jinja2 in c:\\users\\amra\\anaconda3\\lib\\site-packages (from notebook>=4.4.1->widgetsnbextension~=3.5.0->ipywidgets>=7.0.0->cufflinks) (2.11.2)\n",
      "Requirement already satisfied: Send2Trash in c:\\users\\amra\\anaconda3\\lib\\site-packages (from notebook>=4.4.1->widgetsnbextension~=3.5.0->ipywidgets>=7.0.0->cufflinks) (1.5.0)\n",
      "Requirement already satisfied: cffi>=1.0.0 in c:\\users\\amra\\anaconda3\\lib\\site-packages (from argon2-cffi->notebook>=4.4.1->widgetsnbextension~=3.5.0->ipywidgets>=7.0.0->cufflinks) (1.14.3)\n",
      "Requirement already satisfied: entrypoints>=0.2.2 in c:\\users\\amra\\anaconda3\\lib\\site-packages (from nbconvert->notebook>=4.4.1->widgetsnbextension~=3.5.0->ipywidgets>=7.0.0->cufflinks) (0.3)\n",
      "Requirement already satisfied: nbclient<0.6.0,>=0.5.0 in c:\\users\\amra\\anaconda3\\lib\\site-packages (from nbconvert->notebook>=4.4.1->widgetsnbextension~=3.5.0->ipywidgets>=7.0.0->cufflinks) (0.5.1)\n",
      "Requirement already satisfied: bleach in c:\\users\\amra\\anaconda3\\lib\\site-packages (from nbconvert->notebook>=4.4.1->widgetsnbextension~=3.5.0->ipywidgets>=7.0.0->cufflinks) (3.2.1)\n",
      "Requirement already satisfied: defusedxml in c:\\users\\amra\\anaconda3\\lib\\site-packages (from nbconvert->notebook>=4.4.1->widgetsnbextension~=3.5.0->ipywidgets>=7.0.0->cufflinks) (0.6.0)\n",
      "Requirement already satisfied: pandocfilters>=1.4.1 in c:\\users\\amra\\anaconda3\\lib\\site-packages (from nbconvert->notebook>=4.4.1->widgetsnbextension~=3.5.0->ipywidgets>=7.0.0->cufflinks) (1.4.3)\n",
      "Requirement already satisfied: testpath in c:\\users\\amra\\anaconda3\\lib\\site-packages (from nbconvert->notebook>=4.4.1->widgetsnbextension~=3.5.0->ipywidgets>=7.0.0->cufflinks) (0.4.4)\n",
      "Requirement already satisfied: jupyterlab-pygments in c:\\users\\amra\\anaconda3\\lib\\site-packages (from nbconvert->notebook>=4.4.1->widgetsnbextension~=3.5.0->ipywidgets>=7.0.0->cufflinks) (0.1.2)\n",
      "Requirement already satisfied: mistune<2,>=0.8.1 in c:\\users\\amra\\anaconda3\\lib\\site-packages (from nbconvert->notebook>=4.4.1->widgetsnbextension~=3.5.0->ipywidgets>=7.0.0->cufflinks) (0.8.4)\n",
      "Requirement already satisfied: pywinpty>=0.5 in c:\\users\\amra\\anaconda3\\lib\\site-packages (from terminado>=0.8.3->notebook>=4.4.1->widgetsnbextension~=3.5.0->ipywidgets>=7.0.0->cufflinks) (0.5.7)\n",
      "Requirement already satisfied: MarkupSafe>=0.23 in c:\\users\\amra\\anaconda3\\lib\\site-packages (from jinja2->notebook>=4.4.1->widgetsnbextension~=3.5.0->ipywidgets>=7.0.0->cufflinks) (1.1.1)\n",
      "Requirement already satisfied: pycparser in c:\\users\\amra\\anaconda3\\lib\\site-packages (from cffi>=1.0.0->argon2-cffi->notebook>=4.4.1->widgetsnbextension~=3.5.0->ipywidgets>=7.0.0->cufflinks) (2.20)\n",
      "Requirement already satisfied: async-generator in c:\\users\\amra\\anaconda3\\lib\\site-packages (from nbclient<0.6.0,>=0.5.0->nbconvert->notebook>=4.4.1->widgetsnbextension~=3.5.0->ipywidgets>=7.0.0->cufflinks) (1.10)\n",
      "Requirement already satisfied: nest-asyncio in c:\\users\\amra\\anaconda3\\lib\\site-packages (from nbclient<0.6.0,>=0.5.0->nbconvert->notebook>=4.4.1->widgetsnbextension~=3.5.0->ipywidgets>=7.0.0->cufflinks) (1.4.2)\n",
      "Requirement already satisfied: packaging in c:\\users\\amra\\anaconda3\\lib\\site-packages (from bleach->nbconvert->notebook>=4.4.1->widgetsnbextension~=3.5.0->ipywidgets>=7.0.0->cufflinks) (20.4)\n",
      "Requirement already satisfied: webencodings in c:\\users\\amra\\anaconda3\\lib\\site-packages (from bleach->nbconvert->notebook>=4.4.1->widgetsnbextension~=3.5.0->ipywidgets>=7.0.0->cufflinks) (0.5.1)\n",
      "Requirement already satisfied: pyparsing>=2.0.2 in c:\\users\\amra\\anaconda3\\lib\\site-packages (from packaging->bleach->nbconvert->notebook>=4.4.1->widgetsnbextension~=3.5.0->ipywidgets>=7.0.0->cufflinks) (2.4.7)\n",
      "\n"
     ]
    }
   ],
   "source": [
    "pip install cufflinks"
   ]
  },
  {
   "cell_type": "code",
   "execution_count": 10,
   "metadata": {},
   "outputs": [
    {
     "name": "stdout",
     "output_type": "stream",
     "text": [
      "Collecting package metadata (current_repodata.json): ...working... done\n",
      "Note: you may need to restart the kernel to use updated packages.\n",
      "Solving environment: ...working... done\n",
      "\n",
      "# All requested packages already installed.\n",
      "\n",
      "\n"
     ]
    }
   ],
   "source": [
    "conda install -c https://conda.anaconda.org/plotly plotly"
   ]
  },
  {
   "cell_type": "code",
   "execution_count": 11,
   "metadata": {},
   "outputs": [
    {
     "data": {
      "text/html": [
       "        <script type=\"text/javascript\">\n",
       "        window.PlotlyConfig = {MathJaxConfig: 'local'};\n",
       "        if (window.MathJax) {MathJax.Hub.Config({SVG: {font: \"STIX-Web\"}});}\n",
       "        if (typeof require !== 'undefined') {\n",
       "        require.undef(\"plotly\");\n",
       "        requirejs.config({\n",
       "            paths: {\n",
       "                'plotly': ['https://cdn.plot.ly/plotly-latest.min']\n",
       "            }\n",
       "        });\n",
       "        require(['plotly'], function(Plotly) {\n",
       "            window._Plotly = Plotly;\n",
       "        });\n",
       "        }\n",
       "        </script>\n",
       "        "
      ]
     },
     "metadata": {},
     "output_type": "display_data"
    },
    {
     "data": {
      "application/vnd.plotly.v1+json": {
       "config": {
        "linkText": "Export to plot.ly",
        "plotlyServerURL": "https://plot.ly",
        "showLink": false
       },
       "data": [
        {
         "marker": {
          "color": [
           0.648,
           0.647,
           0.666,
           0.702,
           0.718,
           0.584,
           0.527,
           0.53,
           0.621,
           0.376,
           0.683,
           0.808,
           0.716,
           0.736,
           0.696,
           0.703,
           0.657,
           0.638,
           0.907,
           0.784,
           0.746,
           0.724,
           0.499,
           0.467,
           0.563,
           0.568,
           0.564,
           0.534,
           0.399,
           0.656,
           0.509,
           0.672,
           0.53,
           0.454,
           0.547,
           0.467,
           0.563,
           0.568,
           0.564,
           0.534,
           0.399,
           0.656,
           0.509,
           0.573,
           0.741,
           0.77,
           0.761,
           0.575,
           0.805,
           0.822,
           0.788,
           0.407,
           0.305,
           0.688,
           0.439,
           0.414,
           0.697,
           0.562,
           0.482,
           0.48,
           0.378,
           0.43,
           0.603,
           0.665,
           0.63
          ],
          "size": 8
         },
         "mode": "markers",
         "text": [
          "Nećeš Me, Zar Ne",
          "Iluzionist",
          "Ne Reci Zauvijek",
          "Zvijeri - Glad",
          "Mrak",
          "Mjesto Za Jedno",
          "Grijeh",
          "Danima",
          "Krenimo Nekamo",
          "Out Of Time",
          "Pills",
          "Stranac",
          "Stop",
          "Ne Pitaj Za Mene",
          "Zašto Bih Ti Rekla To",
          "Mjesecu Je Dosadno",
          "Brodolom",
          "Naučila Sam Trik",
          "Što Te Ranilo",
          "Japanac",
          "Pronađi Put",
          "Gazio Si Me - Live",
          "Naučila Sam Trik - Live",
          "Budi Kao More - Live",
          "Dan Po Dan - Live",
          "Osloni Se Na Mene - Live",
          "Zamijenit Ću Te Gorim - Live",
          "Ovaj Ples Dame Biraju - Live",
          "Sami - Live",
          "Ne Daj - Live",
          "Pelin I Med - Live",
          "Mjesecu Je Dosadno - Live",
          "Stop - Live",
          "Zašto Bih Ti Rekla To - Live",
          "What'd I Say - Live",
          "Budi Kao More",
          "Dan Po Dan",
          "Osloni Se Na Mene",
          "Zamijenit Ću Te Gorim",
          "Ovaj Ples Dame Biraju",
          "Sami",
          "Ne Daj",
          "Pelin I Med",
          "What'd I Say",
          "Gazio Si Me",
          "Svaki Put",
          "Noć Na Zemlji",
          "Neki Drugi Dan",
          "Istina",
          "Rudi",
          "Feeling",
          "Sophisticated Lady",
          "Sunce",
          "Lijepa",
          "Sreća",
          "Sve Je Bolje Kad Je Tu",
          "Hodaš Na Rukama",
          "Bolje Da Ostaneš Sama",
          "I Dalje Sanjam...",
          "Moj Pad",
          "Voli Me Još Ovu Noć",
          "Pisano Dahom",
          "Voli Barem Pjesmu",
          "Govori Tiho",
          "Lijepa - Unplugged"
         ],
         "type": "scatter3d",
         "x": [
          -0.510674874436278,
          -0.30842000225834393,
          -0.5010055080614348,
          -0.6167675979250622,
          -0.3395951900430933,
          -0.431865171775716,
          -0.2748517863516792,
          -0.2169101323906755,
          -0.27156316977494266,
          0.27632686639776777,
          -0.5544069857848347,
          -0.194110640078874,
          -0.38986487706451617,
          -0.6254917567786868,
          -0.5204580396303915,
          -0.28794706935864495,
          -0.5100852268845018,
          -0.2969471526930297,
          -0.6839564421216469,
          -0.3204464111275666,
          -0.21692584891118238,
          0.550610828492994,
          0.9510193140901465,
          0.5071237378865795,
          0.6785031829918594,
          0.23835761602790037,
          0.5853996924776879,
          0.5346948041993593,
          0.6379376917312799,
          0.37559853353644435,
          0.9774864555304995,
          0.394592320855509,
          0.4157696845499894,
          0.38580543085880636,
          0.6000754397649458,
          0.5071237378865795,
          0.6785031829918594,
          0.23835761602790037,
          0.5853996924776879,
          0.5346942114747611,
          0.6379376917312799,
          0.37559853353644435,
          0.9774864555304995,
          0.5887339331913877,
          -0.5730760152240902,
          -0.5413416059652907,
          -0.4466829639157726,
          -0.23006185881490884,
          -0.4137035286580306,
          -0.5789918254993721,
          -0.6369379573982746,
          0.2400768963287013,
          -0.08936074161710054,
          -0.3260254141287461,
          -0.23345803177843635,
          -0.13803241583581183,
          -0.36844951572532497,
          -0.006682921700899491,
          -0.006889542342163091,
          -0.3948492105166854,
          -0.25754441757060453,
          -0.06728387248538638,
          0.1638235054542749,
          -0.0918408209992171,
          -0.16353051239592306
         ],
         "y": [
          0.02952823691938951,
          -0.3488359878061361,
          -0.07062978379199106,
          -0.3243854444372255,
          -0.3289018559165355,
          -0.15795434696603095,
          -0.26526584602054215,
          0.042414148902837755,
          0.3709294576082406,
          1.0887421800301857,
          -0.002196683510384729,
          0.1844574485798039,
          -0.28234922928546224,
          -0.28094283171120893,
          0.0024667162749847614,
          0.34509821836713683,
          -0.19677822478434767,
          -0.14169925012820714,
          -0.24451809110356368,
          0.02923242210351077,
          0.5379910513748998,
          -0.49375760783126604,
          -0.3353337503403734,
          -0.21624394283983897,
          0.1481723367809503,
          0.0836310177864183,
          0.2351218999953295,
          0.3742683984427931,
          0.01247397716877352,
          -0.5243624909230694,
          -0.11886746312462006,
          -0.24747245025765116,
          -0.5227892256205681,
          -0.2602836038133878,
          -0.7158281875198895,
          -0.21624394283983897,
          0.1481723367809503,
          0.0836310177864183,
          0.2351218999953295,
          0.3742689264385873,
          0.01247397716877352,
          -0.5243624909230694,
          -0.11886746312462006,
          -0.7243755179400604,
          -0.24227507851086716,
          -0.1316329646572699,
          -0.2553822649072141,
          0.6135553527175578,
          -0.0026922170863167374,
          -0.09283012577310117,
          -0.24092739625191914,
          1.1372718440778085,
          -0.22616051361971237,
          -0.0756806015750643,
          0.37604621674788097,
          0.18300934529444185,
          -0.1914170263549344,
          -0.16073776179810315,
          0.5766650522646507,
          -0.04851462575932132,
          0.35576761635709586,
          0.4824133370190586,
          0.9307440819140589,
          0.1874474759682347,
          0.1503802979876109
         ],
         "z": [
          -0.0476542994605359,
          -0.07288334574251738,
          -0.0655595299514112,
          -0.1157367623040241,
          -0.09389026277652776,
          0.24046232256377748,
          0.23048268717740344,
          0.4737619092432011,
          0.05782942604629015,
          0.007352148019488789,
          -0.15804896066132593,
          -0.4153233481040357,
          -0.1476288612328196,
          -0.09669423326363638,
          0.07158819505922996,
          -0.10692863139060838,
          0.09608527352648633,
          0.22482132776181438,
          -0.3260884596777359,
          -0.40843564443343333,
          -0.33540177644226177,
          -0.33756726720805114,
          0.25017051122057377,
          0.01702233901029068,
          -0.1878398908005076,
          -0.006720347255101766,
          -0.303963620656057,
          -0.14701384217619226,
          0.14218196201854796,
          -0.006441888736578624,
          -0.16121678173935544,
          -0.1626251126751391,
          -0.006472426451619707,
          0.44934142512124753,
          0.19314124130645538,
          0.01702233901029068,
          -0.1878398908005076,
          -0.006720347255101766,
          -0.303963620656057,
          -0.14700936427635355,
          0.14218196201854796,
          -0.006441888736578624,
          -0.16121678173935544,
          0.1685359714494832,
          0.21321553093318107,
          -0.3603481217613303,
          -0.15266546176863421,
          0.3922793308962555,
          -0.1858060870950425,
          -0.404595499886659,
          -0.2786136285890344,
          -0.07524251455159542,
          0.7760971490721528,
          -0.13354743918642722,
          0.5325743883009634,
          0.6186912501195357,
          -0.12718879693363225,
          0.05226132927434112,
          0.28590208291392133,
          0.4401413799743539,
          0.5817236733485361,
          0.21830263746462528,
          -0.16583818498612038,
          -0.2160426103089502,
          -0.26995426118014115
         ]
        }
       ],
       "layout": {
        "template": {
         "data": {
          "bar": [
           {
            "error_x": {
             "color": "#2a3f5f"
            },
            "error_y": {
             "color": "#2a3f5f"
            },
            "marker": {
             "line": {
              "color": "#E5ECF6",
              "width": 0.5
             }
            },
            "type": "bar"
           }
          ],
          "barpolar": [
           {
            "marker": {
             "line": {
              "color": "#E5ECF6",
              "width": 0.5
             }
            },
            "type": "barpolar"
           }
          ],
          "carpet": [
           {
            "aaxis": {
             "endlinecolor": "#2a3f5f",
             "gridcolor": "white",
             "linecolor": "white",
             "minorgridcolor": "white",
             "startlinecolor": "#2a3f5f"
            },
            "baxis": {
             "endlinecolor": "#2a3f5f",
             "gridcolor": "white",
             "linecolor": "white",
             "minorgridcolor": "white",
             "startlinecolor": "#2a3f5f"
            },
            "type": "carpet"
           }
          ],
          "choropleth": [
           {
            "colorbar": {
             "outlinewidth": 0,
             "ticks": ""
            },
            "type": "choropleth"
           }
          ],
          "contour": [
           {
            "colorbar": {
             "outlinewidth": 0,
             "ticks": ""
            },
            "colorscale": [
             [
              0,
              "#0d0887"
             ],
             [
              0.1111111111111111,
              "#46039f"
             ],
             [
              0.2222222222222222,
              "#7201a8"
             ],
             [
              0.3333333333333333,
              "#9c179e"
             ],
             [
              0.4444444444444444,
              "#bd3786"
             ],
             [
              0.5555555555555556,
              "#d8576b"
             ],
             [
              0.6666666666666666,
              "#ed7953"
             ],
             [
              0.7777777777777778,
              "#fb9f3a"
             ],
             [
              0.8888888888888888,
              "#fdca26"
             ],
             [
              1,
              "#f0f921"
             ]
            ],
            "type": "contour"
           }
          ],
          "contourcarpet": [
           {
            "colorbar": {
             "outlinewidth": 0,
             "ticks": ""
            },
            "type": "contourcarpet"
           }
          ],
          "heatmap": [
           {
            "colorbar": {
             "outlinewidth": 0,
             "ticks": ""
            },
            "colorscale": [
             [
              0,
              "#0d0887"
             ],
             [
              0.1111111111111111,
              "#46039f"
             ],
             [
              0.2222222222222222,
              "#7201a8"
             ],
             [
              0.3333333333333333,
              "#9c179e"
             ],
             [
              0.4444444444444444,
              "#bd3786"
             ],
             [
              0.5555555555555556,
              "#d8576b"
             ],
             [
              0.6666666666666666,
              "#ed7953"
             ],
             [
              0.7777777777777778,
              "#fb9f3a"
             ],
             [
              0.8888888888888888,
              "#fdca26"
             ],
             [
              1,
              "#f0f921"
             ]
            ],
            "type": "heatmap"
           }
          ],
          "heatmapgl": [
           {
            "colorbar": {
             "outlinewidth": 0,
             "ticks": ""
            },
            "colorscale": [
             [
              0,
              "#0d0887"
             ],
             [
              0.1111111111111111,
              "#46039f"
             ],
             [
              0.2222222222222222,
              "#7201a8"
             ],
             [
              0.3333333333333333,
              "#9c179e"
             ],
             [
              0.4444444444444444,
              "#bd3786"
             ],
             [
              0.5555555555555556,
              "#d8576b"
             ],
             [
              0.6666666666666666,
              "#ed7953"
             ],
             [
              0.7777777777777778,
              "#fb9f3a"
             ],
             [
              0.8888888888888888,
              "#fdca26"
             ],
             [
              1,
              "#f0f921"
             ]
            ],
            "type": "heatmapgl"
           }
          ],
          "histogram": [
           {
            "marker": {
             "colorbar": {
              "outlinewidth": 0,
              "ticks": ""
             }
            },
            "type": "histogram"
           }
          ],
          "histogram2d": [
           {
            "colorbar": {
             "outlinewidth": 0,
             "ticks": ""
            },
            "colorscale": [
             [
              0,
              "#0d0887"
             ],
             [
              0.1111111111111111,
              "#46039f"
             ],
             [
              0.2222222222222222,
              "#7201a8"
             ],
             [
              0.3333333333333333,
              "#9c179e"
             ],
             [
              0.4444444444444444,
              "#bd3786"
             ],
             [
              0.5555555555555556,
              "#d8576b"
             ],
             [
              0.6666666666666666,
              "#ed7953"
             ],
             [
              0.7777777777777778,
              "#fb9f3a"
             ],
             [
              0.8888888888888888,
              "#fdca26"
             ],
             [
              1,
              "#f0f921"
             ]
            ],
            "type": "histogram2d"
           }
          ],
          "histogram2dcontour": [
           {
            "colorbar": {
             "outlinewidth": 0,
             "ticks": ""
            },
            "colorscale": [
             [
              0,
              "#0d0887"
             ],
             [
              0.1111111111111111,
              "#46039f"
             ],
             [
              0.2222222222222222,
              "#7201a8"
             ],
             [
              0.3333333333333333,
              "#9c179e"
             ],
             [
              0.4444444444444444,
              "#bd3786"
             ],
             [
              0.5555555555555556,
              "#d8576b"
             ],
             [
              0.6666666666666666,
              "#ed7953"
             ],
             [
              0.7777777777777778,
              "#fb9f3a"
             ],
             [
              0.8888888888888888,
              "#fdca26"
             ],
             [
              1,
              "#f0f921"
             ]
            ],
            "type": "histogram2dcontour"
           }
          ],
          "mesh3d": [
           {
            "colorbar": {
             "outlinewidth": 0,
             "ticks": ""
            },
            "type": "mesh3d"
           }
          ],
          "parcoords": [
           {
            "line": {
             "colorbar": {
              "outlinewidth": 0,
              "ticks": ""
             }
            },
            "type": "parcoords"
           }
          ],
          "pie": [
           {
            "automargin": true,
            "type": "pie"
           }
          ],
          "scatter": [
           {
            "marker": {
             "colorbar": {
              "outlinewidth": 0,
              "ticks": ""
             }
            },
            "type": "scatter"
           }
          ],
          "scatter3d": [
           {
            "line": {
             "colorbar": {
              "outlinewidth": 0,
              "ticks": ""
             }
            },
            "marker": {
             "colorbar": {
              "outlinewidth": 0,
              "ticks": ""
             }
            },
            "type": "scatter3d"
           }
          ],
          "scattercarpet": [
           {
            "marker": {
             "colorbar": {
              "outlinewidth": 0,
              "ticks": ""
             }
            },
            "type": "scattercarpet"
           }
          ],
          "scattergeo": [
           {
            "marker": {
             "colorbar": {
              "outlinewidth": 0,
              "ticks": ""
             }
            },
            "type": "scattergeo"
           }
          ],
          "scattergl": [
           {
            "marker": {
             "colorbar": {
              "outlinewidth": 0,
              "ticks": ""
             }
            },
            "type": "scattergl"
           }
          ],
          "scattermapbox": [
           {
            "marker": {
             "colorbar": {
              "outlinewidth": 0,
              "ticks": ""
             }
            },
            "type": "scattermapbox"
           }
          ],
          "scatterpolar": [
           {
            "marker": {
             "colorbar": {
              "outlinewidth": 0,
              "ticks": ""
             }
            },
            "type": "scatterpolar"
           }
          ],
          "scatterpolargl": [
           {
            "marker": {
             "colorbar": {
              "outlinewidth": 0,
              "ticks": ""
             }
            },
            "type": "scatterpolargl"
           }
          ],
          "scatterternary": [
           {
            "marker": {
             "colorbar": {
              "outlinewidth": 0,
              "ticks": ""
             }
            },
            "type": "scatterternary"
           }
          ],
          "surface": [
           {
            "colorbar": {
             "outlinewidth": 0,
             "ticks": ""
            },
            "colorscale": [
             [
              0,
              "#0d0887"
             ],
             [
              0.1111111111111111,
              "#46039f"
             ],
             [
              0.2222222222222222,
              "#7201a8"
             ],
             [
              0.3333333333333333,
              "#9c179e"
             ],
             [
              0.4444444444444444,
              "#bd3786"
             ],
             [
              0.5555555555555556,
              "#d8576b"
             ],
             [
              0.6666666666666666,
              "#ed7953"
             ],
             [
              0.7777777777777778,
              "#fb9f3a"
             ],
             [
              0.8888888888888888,
              "#fdca26"
             ],
             [
              1,
              "#f0f921"
             ]
            ],
            "type": "surface"
           }
          ],
          "table": [
           {
            "cells": {
             "fill": {
              "color": "#EBF0F8"
             },
             "line": {
              "color": "white"
             }
            },
            "header": {
             "fill": {
              "color": "#C8D4E3"
             },
             "line": {
              "color": "white"
             }
            },
            "type": "table"
           }
          ]
         },
         "layout": {
          "annotationdefaults": {
           "arrowcolor": "#2a3f5f",
           "arrowhead": 0,
           "arrowwidth": 1
          },
          "autotypenumbers": "strict",
          "coloraxis": {
           "colorbar": {
            "outlinewidth": 0,
            "ticks": ""
           }
          },
          "colorscale": {
           "diverging": [
            [
             0,
             "#8e0152"
            ],
            [
             0.1,
             "#c51b7d"
            ],
            [
             0.2,
             "#de77ae"
            ],
            [
             0.3,
             "#f1b6da"
            ],
            [
             0.4,
             "#fde0ef"
            ],
            [
             0.5,
             "#f7f7f7"
            ],
            [
             0.6,
             "#e6f5d0"
            ],
            [
             0.7,
             "#b8e186"
            ],
            [
             0.8,
             "#7fbc41"
            ],
            [
             0.9,
             "#4d9221"
            ],
            [
             1,
             "#276419"
            ]
           ],
           "sequential": [
            [
             0,
             "#0d0887"
            ],
            [
             0.1111111111111111,
             "#46039f"
            ],
            [
             0.2222222222222222,
             "#7201a8"
            ],
            [
             0.3333333333333333,
             "#9c179e"
            ],
            [
             0.4444444444444444,
             "#bd3786"
            ],
            [
             0.5555555555555556,
             "#d8576b"
            ],
            [
             0.6666666666666666,
             "#ed7953"
            ],
            [
             0.7777777777777778,
             "#fb9f3a"
            ],
            [
             0.8888888888888888,
             "#fdca26"
            ],
            [
             1,
             "#f0f921"
            ]
           ],
           "sequentialminus": [
            [
             0,
             "#0d0887"
            ],
            [
             0.1111111111111111,
             "#46039f"
            ],
            [
             0.2222222222222222,
             "#7201a8"
            ],
            [
             0.3333333333333333,
             "#9c179e"
            ],
            [
             0.4444444444444444,
             "#bd3786"
            ],
            [
             0.5555555555555556,
             "#d8576b"
            ],
            [
             0.6666666666666666,
             "#ed7953"
            ],
            [
             0.7777777777777778,
             "#fb9f3a"
            ],
            [
             0.8888888888888888,
             "#fdca26"
            ],
            [
             1,
             "#f0f921"
            ]
           ]
          },
          "colorway": [
           "#636efa",
           "#EF553B",
           "#00cc96",
           "#ab63fa",
           "#FFA15A",
           "#19d3f3",
           "#FF6692",
           "#B6E880",
           "#FF97FF",
           "#FECB52"
          ],
          "font": {
           "color": "#2a3f5f"
          },
          "geo": {
           "bgcolor": "white",
           "lakecolor": "white",
           "landcolor": "#E5ECF6",
           "showlakes": true,
           "showland": true,
           "subunitcolor": "white"
          },
          "hoverlabel": {
           "align": "left"
          },
          "hovermode": "closest",
          "mapbox": {
           "style": "light"
          },
          "paper_bgcolor": "white",
          "plot_bgcolor": "#E5ECF6",
          "polar": {
           "angularaxis": {
            "gridcolor": "white",
            "linecolor": "white",
            "ticks": ""
           },
           "bgcolor": "#E5ECF6",
           "radialaxis": {
            "gridcolor": "white",
            "linecolor": "white",
            "ticks": ""
           }
          },
          "scene": {
           "xaxis": {
            "backgroundcolor": "#E5ECF6",
            "gridcolor": "white",
            "gridwidth": 2,
            "linecolor": "white",
            "showbackground": true,
            "ticks": "",
            "zerolinecolor": "white"
           },
           "yaxis": {
            "backgroundcolor": "#E5ECF6",
            "gridcolor": "white",
            "gridwidth": 2,
            "linecolor": "white",
            "showbackground": true,
            "ticks": "",
            "zerolinecolor": "white"
           },
           "zaxis": {
            "backgroundcolor": "#E5ECF6",
            "gridcolor": "white",
            "gridwidth": 2,
            "linecolor": "white",
            "showbackground": true,
            "ticks": "",
            "zerolinecolor": "white"
           }
          },
          "shapedefaults": {
           "line": {
            "color": "#2a3f5f"
           }
          },
          "ternary": {
           "aaxis": {
            "gridcolor": "white",
            "linecolor": "white",
            "ticks": ""
           },
           "baxis": {
            "gridcolor": "white",
            "linecolor": "white",
            "ticks": ""
           },
           "bgcolor": "#E5ECF6",
           "caxis": {
            "gridcolor": "white",
            "linecolor": "white",
            "ticks": ""
           }
          },
          "title": {
           "x": 0.05
          },
          "xaxis": {
           "automargin": true,
           "gridcolor": "white",
           "linecolor": "white",
           "ticks": "",
           "title": {
            "standoff": 15
           },
           "zerolinecolor": "white",
           "zerolinewidth": 2
          },
          "yaxis": {
           "automargin": true,
           "gridcolor": "white",
           "linecolor": "white",
           "ticks": "",
           "title": {
            "standoff": 15
           },
           "zerolinecolor": "white",
           "zerolinewidth": 2
          }
         }
        }
       }
      },
      "text/html": [
       "<div>                            <div id=\"fa387bbd-7bd4-4231-b22b-a1fcabc1d531\" class=\"plotly-graph-div\" style=\"height:525px; width:100%;\"></div>            <script type=\"text/javascript\">                require([\"plotly\"], function(Plotly) {                    window.PLOTLYENV=window.PLOTLYENV || {};                                    if (document.getElementById(\"fa387bbd-7bd4-4231-b22b-a1fcabc1d531\")) {                    Plotly.newPlot(                        \"fa387bbd-7bd4-4231-b22b-a1fcabc1d531\",                        [{\"marker\": {\"color\": [0.648, 0.647, 0.666, 0.702, 0.718, 0.584, 0.527, 0.53, 0.621, 0.376, 0.683, 0.808, 0.716, 0.736, 0.696, 0.703, 0.657, 0.638, 0.907, 0.784, 0.746, 0.724, 0.499, 0.467, 0.563, 0.568, 0.564, 0.534, 0.399, 0.656, 0.509, 0.672, 0.53, 0.454, 0.547, 0.467, 0.563, 0.568, 0.564, 0.534, 0.399, 0.656, 0.509, 0.573, 0.741, 0.77, 0.761, 0.575, 0.805, 0.822, 0.788, 0.407, 0.305, 0.688, 0.439, 0.414, 0.697, 0.562, 0.482, 0.48, 0.378, 0.43, 0.603, 0.665, 0.63], \"size\": 8}, \"mode\": \"markers\", \"text\": [\"Ne\\u0107e\\u0161 Me, Zar Ne\", \"Iluzionist\", \"Ne Reci Zauvijek\", \"Zvijeri - Glad\", \"Mrak\", \"Mjesto Za Jedno\", \"Grijeh\", \"Danima\", \"Krenimo Nekamo\", \"Out Of Time\", \"Pills\", \"Stranac\", \"Stop\", \"Ne Pitaj Za Mene\", \"Za\\u0161to Bih Ti Rekla To\", \"Mjesecu Je Dosadno\", \"Brodolom\", \"Nau\\u010dila Sam Trik\", \"\\u0160to Te Ranilo\", \"Japanac\", \"Prona\\u0111i Put\", \"Gazio Si Me - Live\", \"Nau\\u010dila Sam Trik - Live\", \"Budi Kao More - Live\", \"Dan Po Dan - Live\", \"Osloni Se Na Mene - Live\", \"Zamijenit \\u0106u Te Gorim - Live\", \"Ovaj Ples Dame Biraju - Live\", \"Sami - Live\", \"Ne Daj - Live\", \"Pelin I Med - Live\", \"Mjesecu Je Dosadno - Live\", \"Stop - Live\", \"Za\\u0161to Bih Ti Rekla To - Live\", \"What'd I Say - Live\", \"Budi Kao More\", \"Dan Po Dan\", \"Osloni Se Na Mene\", \"Zamijenit \\u0106u Te Gorim\", \"Ovaj Ples Dame Biraju\", \"Sami\", \"Ne Daj\", \"Pelin I Med\", \"What'd I Say\", \"Gazio Si Me\", \"Svaki Put\", \"No\\u0107 Na Zemlji\", \"Neki Drugi Dan\", \"Istina\", \"Rudi\", \"Feeling\", \"Sophisticated Lady\", \"Sunce\", \"Lijepa\", \"Sre\\u0107a\", \"Sve Je Bolje Kad Je Tu\", \"Hoda\\u0161 Na Rukama\", \"Bolje Da Ostane\\u0161 Sama\", \"I Dalje Sanjam...\", \"Moj Pad\", \"Voli Me Jo\\u0161 Ovu No\\u0107\", \"Pisano Dahom\", \"Voli Barem Pjesmu\", \"Govori Tiho\", \"Lijepa - Unplugged\"], \"type\": \"scatter3d\", \"x\": [-0.510674874436278, -0.30842000225834393, -0.5010055080614348, -0.6167675979250622, -0.3395951900430933, -0.431865171775716, -0.2748517863516792, -0.2169101323906755, -0.27156316977494266, 0.27632686639776777, -0.5544069857848347, -0.194110640078874, -0.38986487706451617, -0.6254917567786868, -0.5204580396303915, -0.28794706935864495, -0.5100852268845018, -0.2969471526930297, -0.6839564421216469, -0.3204464111275666, -0.21692584891118238, 0.550610828492994, 0.9510193140901465, 0.5071237378865795, 0.6785031829918594, 0.23835761602790037, 0.5853996924776879, 0.5346948041993593, 0.6379376917312799, 0.37559853353644435, 0.9774864555304995, 0.394592320855509, 0.4157696845499894, 0.38580543085880636, 0.6000754397649458, 0.5071237378865795, 0.6785031829918594, 0.23835761602790037, 0.5853996924776879, 0.5346942114747611, 0.6379376917312799, 0.37559853353644435, 0.9774864555304995, 0.5887339331913877, -0.5730760152240902, -0.5413416059652907, -0.4466829639157726, -0.23006185881490884, -0.4137035286580306, -0.5789918254993721, -0.6369379573982746, 0.2400768963287013, -0.08936074161710054, -0.3260254141287461, -0.23345803177843635, -0.13803241583581183, -0.36844951572532497, -0.006682921700899491, -0.006889542342163091, -0.3948492105166854, -0.25754441757060453, -0.06728387248538638, 0.1638235054542749, -0.0918408209992171, -0.16353051239592306], \"y\": [0.02952823691938951, -0.3488359878061361, -0.07062978379199106, -0.3243854444372255, -0.3289018559165355, -0.15795434696603095, -0.26526584602054215, 0.042414148902837755, 0.3709294576082406, 1.0887421800301857, -0.002196683510384729, 0.1844574485798039, -0.28234922928546224, -0.28094283171120893, 0.0024667162749847614, 0.34509821836713683, -0.19677822478434767, -0.14169925012820714, -0.24451809110356368, 0.02923242210351077, 0.5379910513748998, -0.49375760783126604, -0.3353337503403734, -0.21624394283983897, 0.1481723367809503, 0.0836310177864183, 0.2351218999953295, 0.3742683984427931, 0.01247397716877352, -0.5243624909230694, -0.11886746312462006, -0.24747245025765116, -0.5227892256205681, -0.2602836038133878, -0.7158281875198895, -0.21624394283983897, 0.1481723367809503, 0.0836310177864183, 0.2351218999953295, 0.3742689264385873, 0.01247397716877352, -0.5243624909230694, -0.11886746312462006, -0.7243755179400604, -0.24227507851086716, -0.1316329646572699, -0.2553822649072141, 0.6135553527175578, -0.0026922170863167374, -0.09283012577310117, -0.24092739625191914, 1.1372718440778085, -0.22616051361971237, -0.0756806015750643, 0.37604621674788097, 0.18300934529444185, -0.1914170263549344, -0.16073776179810315, 0.5766650522646507, -0.04851462575932132, 0.35576761635709586, 0.4824133370190586, 0.9307440819140589, 0.1874474759682347, 0.1503802979876109], \"z\": [-0.0476542994605359, -0.07288334574251738, -0.0655595299514112, -0.1157367623040241, -0.09389026277652776, 0.24046232256377748, 0.23048268717740344, 0.4737619092432011, 0.05782942604629015, 0.007352148019488789, -0.15804896066132593, -0.4153233481040357, -0.1476288612328196, -0.09669423326363638, 0.07158819505922996, -0.10692863139060838, 0.09608527352648633, 0.22482132776181438, -0.3260884596777359, -0.40843564443343333, -0.33540177644226177, -0.33756726720805114, 0.25017051122057377, 0.01702233901029068, -0.1878398908005076, -0.006720347255101766, -0.303963620656057, -0.14701384217619226, 0.14218196201854796, -0.006441888736578624, -0.16121678173935544, -0.1626251126751391, -0.006472426451619707, 0.44934142512124753, 0.19314124130645538, 0.01702233901029068, -0.1878398908005076, -0.006720347255101766, -0.303963620656057, -0.14700936427635355, 0.14218196201854796, -0.006441888736578624, -0.16121678173935544, 0.1685359714494832, 0.21321553093318107, -0.3603481217613303, -0.15266546176863421, 0.3922793308962555, -0.1858060870950425, -0.404595499886659, -0.2786136285890344, -0.07524251455159542, 0.7760971490721528, -0.13354743918642722, 0.5325743883009634, 0.6186912501195357, -0.12718879693363225, 0.05226132927434112, 0.28590208291392133, 0.4401413799743539, 0.5817236733485361, 0.21830263746462528, -0.16583818498612038, -0.2160426103089502, -0.26995426118014115]}],                        {\"template\": {\"data\": {\"bar\": [{\"error_x\": {\"color\": \"#2a3f5f\"}, \"error_y\": {\"color\": \"#2a3f5f\"}, \"marker\": {\"line\": {\"color\": \"#E5ECF6\", \"width\": 0.5}}, \"type\": \"bar\"}], \"barpolar\": [{\"marker\": {\"line\": {\"color\": \"#E5ECF6\", \"width\": 0.5}}, \"type\": \"barpolar\"}], \"carpet\": [{\"aaxis\": {\"endlinecolor\": \"#2a3f5f\", \"gridcolor\": \"white\", \"linecolor\": \"white\", \"minorgridcolor\": \"white\", \"startlinecolor\": \"#2a3f5f\"}, \"baxis\": {\"endlinecolor\": \"#2a3f5f\", \"gridcolor\": \"white\", \"linecolor\": \"white\", \"minorgridcolor\": \"white\", \"startlinecolor\": \"#2a3f5f\"}, \"type\": \"carpet\"}], \"choropleth\": [{\"colorbar\": {\"outlinewidth\": 0, \"ticks\": \"\"}, \"type\": \"choropleth\"}], \"contour\": [{\"colorbar\": {\"outlinewidth\": 0, \"ticks\": \"\"}, \"colorscale\": [[0.0, \"#0d0887\"], [0.1111111111111111, \"#46039f\"], [0.2222222222222222, \"#7201a8\"], [0.3333333333333333, \"#9c179e\"], [0.4444444444444444, \"#bd3786\"], [0.5555555555555556, \"#d8576b\"], [0.6666666666666666, \"#ed7953\"], [0.7777777777777778, \"#fb9f3a\"], [0.8888888888888888, \"#fdca26\"], [1.0, \"#f0f921\"]], \"type\": \"contour\"}], \"contourcarpet\": [{\"colorbar\": {\"outlinewidth\": 0, \"ticks\": \"\"}, \"type\": \"contourcarpet\"}], \"heatmap\": [{\"colorbar\": {\"outlinewidth\": 0, \"ticks\": \"\"}, \"colorscale\": [[0.0, \"#0d0887\"], [0.1111111111111111, \"#46039f\"], [0.2222222222222222, \"#7201a8\"], [0.3333333333333333, \"#9c179e\"], [0.4444444444444444, \"#bd3786\"], [0.5555555555555556, \"#d8576b\"], [0.6666666666666666, \"#ed7953\"], [0.7777777777777778, \"#fb9f3a\"], [0.8888888888888888, \"#fdca26\"], [1.0, \"#f0f921\"]], \"type\": \"heatmap\"}], \"heatmapgl\": [{\"colorbar\": {\"outlinewidth\": 0, \"ticks\": \"\"}, \"colorscale\": [[0.0, \"#0d0887\"], [0.1111111111111111, \"#46039f\"], [0.2222222222222222, \"#7201a8\"], [0.3333333333333333, \"#9c179e\"], [0.4444444444444444, \"#bd3786\"], [0.5555555555555556, \"#d8576b\"], [0.6666666666666666, \"#ed7953\"], [0.7777777777777778, \"#fb9f3a\"], [0.8888888888888888, \"#fdca26\"], [1.0, \"#f0f921\"]], \"type\": \"heatmapgl\"}], \"histogram\": [{\"marker\": {\"colorbar\": {\"outlinewidth\": 0, \"ticks\": \"\"}}, \"type\": \"histogram\"}], \"histogram2d\": [{\"colorbar\": {\"outlinewidth\": 0, \"ticks\": \"\"}, \"colorscale\": [[0.0, \"#0d0887\"], [0.1111111111111111, \"#46039f\"], [0.2222222222222222, \"#7201a8\"], [0.3333333333333333, \"#9c179e\"], [0.4444444444444444, \"#bd3786\"], [0.5555555555555556, \"#d8576b\"], [0.6666666666666666, \"#ed7953\"], [0.7777777777777778, \"#fb9f3a\"], [0.8888888888888888, \"#fdca26\"], [1.0, \"#f0f921\"]], \"type\": \"histogram2d\"}], \"histogram2dcontour\": [{\"colorbar\": {\"outlinewidth\": 0, \"ticks\": \"\"}, \"colorscale\": [[0.0, \"#0d0887\"], [0.1111111111111111, \"#46039f\"], [0.2222222222222222, \"#7201a8\"], [0.3333333333333333, \"#9c179e\"], [0.4444444444444444, \"#bd3786\"], [0.5555555555555556, \"#d8576b\"], [0.6666666666666666, \"#ed7953\"], [0.7777777777777778, \"#fb9f3a\"], [0.8888888888888888, \"#fdca26\"], [1.0, \"#f0f921\"]], \"type\": \"histogram2dcontour\"}], \"mesh3d\": [{\"colorbar\": {\"outlinewidth\": 0, \"ticks\": \"\"}, \"type\": \"mesh3d\"}], \"parcoords\": [{\"line\": {\"colorbar\": {\"outlinewidth\": 0, \"ticks\": \"\"}}, \"type\": \"parcoords\"}], \"pie\": [{\"automargin\": true, \"type\": \"pie\"}], \"scatter\": [{\"marker\": {\"colorbar\": {\"outlinewidth\": 0, \"ticks\": \"\"}}, \"type\": \"scatter\"}], \"scatter3d\": [{\"line\": {\"colorbar\": {\"outlinewidth\": 0, \"ticks\": \"\"}}, \"marker\": {\"colorbar\": {\"outlinewidth\": 0, \"ticks\": \"\"}}, \"type\": \"scatter3d\"}], \"scattercarpet\": [{\"marker\": {\"colorbar\": {\"outlinewidth\": 0, \"ticks\": \"\"}}, \"type\": \"scattercarpet\"}], \"scattergeo\": [{\"marker\": {\"colorbar\": {\"outlinewidth\": 0, \"ticks\": \"\"}}, \"type\": \"scattergeo\"}], \"scattergl\": [{\"marker\": {\"colorbar\": {\"outlinewidth\": 0, \"ticks\": \"\"}}, \"type\": \"scattergl\"}], \"scattermapbox\": [{\"marker\": {\"colorbar\": {\"outlinewidth\": 0, \"ticks\": \"\"}}, \"type\": \"scattermapbox\"}], \"scatterpolar\": [{\"marker\": {\"colorbar\": {\"outlinewidth\": 0, \"ticks\": \"\"}}, \"type\": \"scatterpolar\"}], \"scatterpolargl\": [{\"marker\": {\"colorbar\": {\"outlinewidth\": 0, \"ticks\": \"\"}}, \"type\": \"scatterpolargl\"}], \"scatterternary\": [{\"marker\": {\"colorbar\": {\"outlinewidth\": 0, \"ticks\": \"\"}}, \"type\": \"scatterternary\"}], \"surface\": [{\"colorbar\": {\"outlinewidth\": 0, \"ticks\": \"\"}, \"colorscale\": [[0.0, \"#0d0887\"], [0.1111111111111111, \"#46039f\"], [0.2222222222222222, \"#7201a8\"], [0.3333333333333333, \"#9c179e\"], [0.4444444444444444, \"#bd3786\"], [0.5555555555555556, \"#d8576b\"], [0.6666666666666666, \"#ed7953\"], [0.7777777777777778, \"#fb9f3a\"], [0.8888888888888888, \"#fdca26\"], [1.0, \"#f0f921\"]], \"type\": \"surface\"}], \"table\": [{\"cells\": {\"fill\": {\"color\": \"#EBF0F8\"}, \"line\": {\"color\": \"white\"}}, \"header\": {\"fill\": {\"color\": \"#C8D4E3\"}, \"line\": {\"color\": \"white\"}}, \"type\": \"table\"}]}, \"layout\": {\"annotationdefaults\": {\"arrowcolor\": \"#2a3f5f\", \"arrowhead\": 0, \"arrowwidth\": 1}, \"autotypenumbers\": \"strict\", \"coloraxis\": {\"colorbar\": {\"outlinewidth\": 0, \"ticks\": \"\"}}, \"colorscale\": {\"diverging\": [[0, \"#8e0152\"], [0.1, \"#c51b7d\"], [0.2, \"#de77ae\"], [0.3, \"#f1b6da\"], [0.4, \"#fde0ef\"], [0.5, \"#f7f7f7\"], [0.6, \"#e6f5d0\"], [0.7, \"#b8e186\"], [0.8, \"#7fbc41\"], [0.9, \"#4d9221\"], [1, \"#276419\"]], \"sequential\": [[0.0, \"#0d0887\"], [0.1111111111111111, \"#46039f\"], [0.2222222222222222, \"#7201a8\"], [0.3333333333333333, \"#9c179e\"], [0.4444444444444444, \"#bd3786\"], [0.5555555555555556, \"#d8576b\"], [0.6666666666666666, \"#ed7953\"], [0.7777777777777778, \"#fb9f3a\"], [0.8888888888888888, \"#fdca26\"], [1.0, \"#f0f921\"]], \"sequentialminus\": [[0.0, \"#0d0887\"], [0.1111111111111111, \"#46039f\"], [0.2222222222222222, \"#7201a8\"], [0.3333333333333333, \"#9c179e\"], [0.4444444444444444, \"#bd3786\"], [0.5555555555555556, \"#d8576b\"], [0.6666666666666666, \"#ed7953\"], [0.7777777777777778, \"#fb9f3a\"], [0.8888888888888888, \"#fdca26\"], [1.0, \"#f0f921\"]]}, \"colorway\": [\"#636efa\", \"#EF553B\", \"#00cc96\", \"#ab63fa\", \"#FFA15A\", \"#19d3f3\", \"#FF6692\", \"#B6E880\", \"#FF97FF\", \"#FECB52\"], \"font\": {\"color\": \"#2a3f5f\"}, \"geo\": {\"bgcolor\": \"white\", \"lakecolor\": \"white\", \"landcolor\": \"#E5ECF6\", \"showlakes\": true, \"showland\": true, \"subunitcolor\": \"white\"}, \"hoverlabel\": {\"align\": \"left\"}, \"hovermode\": \"closest\", \"mapbox\": {\"style\": \"light\"}, \"paper_bgcolor\": \"white\", \"plot_bgcolor\": \"#E5ECF6\", \"polar\": {\"angularaxis\": {\"gridcolor\": \"white\", \"linecolor\": \"white\", \"ticks\": \"\"}, \"bgcolor\": \"#E5ECF6\", \"radialaxis\": {\"gridcolor\": \"white\", \"linecolor\": \"white\", \"ticks\": \"\"}}, \"scene\": {\"xaxis\": {\"backgroundcolor\": \"#E5ECF6\", \"gridcolor\": \"white\", \"gridwidth\": 2, \"linecolor\": \"white\", \"showbackground\": true, \"ticks\": \"\", \"zerolinecolor\": \"white\"}, \"yaxis\": {\"backgroundcolor\": \"#E5ECF6\", \"gridcolor\": \"white\", \"gridwidth\": 2, \"linecolor\": \"white\", \"showbackground\": true, \"ticks\": \"\", \"zerolinecolor\": \"white\"}, \"zaxis\": {\"backgroundcolor\": \"#E5ECF6\", \"gridcolor\": \"white\", \"gridwidth\": 2, \"linecolor\": \"white\", \"showbackground\": true, \"ticks\": \"\", \"zerolinecolor\": \"white\"}}, \"shapedefaults\": {\"line\": {\"color\": \"#2a3f5f\"}}, \"ternary\": {\"aaxis\": {\"gridcolor\": \"white\", \"linecolor\": \"white\", \"ticks\": \"\"}, \"baxis\": {\"gridcolor\": \"white\", \"linecolor\": \"white\", \"ticks\": \"\"}, \"bgcolor\": \"#E5ECF6\", \"caxis\": {\"gridcolor\": \"white\", \"linecolor\": \"white\", \"ticks\": \"\"}}, \"title\": {\"x\": 0.05}, \"xaxis\": {\"automargin\": true, \"gridcolor\": \"white\", \"linecolor\": \"white\", \"ticks\": \"\", \"title\": {\"standoff\": 15}, \"zerolinecolor\": \"white\", \"zerolinewidth\": 2}, \"yaxis\": {\"automargin\": true, \"gridcolor\": \"white\", \"linecolor\": \"white\", \"ticks\": \"\", \"title\": {\"standoff\": 15}, \"zerolinecolor\": \"white\", \"zerolinewidth\": 2}}}},                        {\"responsive\": true}                    ).then(function(){\n",
       "                            \n",
       "var gd = document.getElementById('fa387bbd-7bd4-4231-b22b-a1fcabc1d531');\n",
       "var x = new MutationObserver(function (mutations, observer) {{\n",
       "        var display = window.getComputedStyle(gd).display;\n",
       "        if (!display || display === 'none') {{\n",
       "            console.log([gd, 'removed!']);\n",
       "            Plotly.purge(gd);\n",
       "            observer.disconnect();\n",
       "        }}\n",
       "}});\n",
       "\n",
       "// Listen for the removal of the full notebook cells\n",
       "var notebookContainer = gd.closest('#notebook-container');\n",
       "if (notebookContainer) {{\n",
       "    x.observe(notebookContainer, {childList: true});\n",
       "}}\n",
       "\n",
       "// Listen for the clearing of the current output cell\n",
       "var outputEl = gd.closest('.output');\n",
       "if (outputEl) {{\n",
       "    x.observe(outputEl, {childList: true});\n",
       "}}\n",
       "\n",
       "                        })                };                });            </script>        </div>"
      ]
     },
     "metadata": {},
     "output_type": "display_data"
    }
   ],
   "source": [
    "import plotly.offline as py\n",
    "py.init_notebook_mode(connected=True)\n",
    "import plotly.graph_objs as go\n",
    "import plotly.tools as tls\n",
    "\n",
    "trace = go.Scatter3d(\n",
    "    x=X[:,0],\n",
    "    y=X[:,1],\n",
    "    z=X[:,2],\n",
    "    text=text2,\n",
    "    mode=\"markers\",\n",
    "    marker=dict(\n",
    "        size=8,\n",
    "        color=y\n",
    "    )\n",
    ")\n",
    "\n",
    "fig = go.Figure(data=[trace])\n",
    "py.iplot(fig, filename=\"test-graph\")"
   ]
  },
  {
   "cell_type": "code",
   "execution_count": 12,
   "metadata": {},
   "outputs": [
    {
     "data": {
      "text/plain": [
       "<AxesSubplot:>"
      ]
     },
     "execution_count": 12,
     "metadata": {},
     "output_type": "execute_result"
    },
    {
     "data": {
      "image/png": "[encoded data removed]",
      "text/plain": [
       "<Figure size 864x576 with 2 Axes>"
      ]
     },
     "metadata": {
      "needs_background": "light"
     },
     "output_type": "display_data"
    }
   ],
   "source": [
    "#eksplorativna analiza\n",
    "#Između određenih osobina postoje veze\n",
    "\n",
    "corr = final_df[['acousticness','danceability','energy',\n",
    "'instrumentalness','liveness','tempo','valence']].corr()\n",
    "\n",
    "import matplotlib.pyplot as plt\n",
    "import seaborn as sns\n",
    "\n",
    "sns.set(style='whitegrid')\n",
    "\n",
    "%matplotlib inline\n",
    "\n",
    "plt.figure(figsize=(12,8))\n",
    "sns.heatmap(corr, annot=True)"
   ]
  },
  {
   "cell_type": "code",
   "execution_count": null,
   "metadata": {},
   "outputs": [],
   "source": []
  },
  {
   "cell_type": "code",
   "execution_count": null,
   "metadata": {},
   "outputs": [],
   "source": []
  }
 ],
 "metadata": {
  "kernelspec": {
   "display_name": "Python 3",
   "language": "python",
   "name": "python3"
  },
  "language_info": {
   "codemirror_mode": {
    "name": "ipython",
    "version": 3
   },
   "file_extension": ".py",
   "mimetype": "text/x-python",
   "name": "python",
   "nbconvert_exporter": "python",
   "pygments_lexer": "ipython3",
   "version": "3.8.5"
  }
 },
 "nbformat": 4,
 "nbformat_minor": 4
}
